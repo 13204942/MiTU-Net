{
  "nbformat": 4,
  "nbformat_minor": 0,
  "metadata": {
    "colab": {
      "provenance": [],
      "gpuType": "T4",
      "collapsed_sections": [
        "TZfIz2re_9vK"
      ]
    },
    "kernelspec": {
      "name": "python3",
      "display_name": "Python 3"
    },
    "language_info": {
      "name": "python"
    },
    "accelerator": "GPU"
  },
  "cells": [
    {
      "cell_type": "markdown",
      "source": [
        "# Symphysis-Fetal Head Segmentation"
      ],
      "metadata": {
        "id": "qosuYr0_1hNV"
      }
    },
    {
      "cell_type": "markdown",
      "source": [
        "The high risk of maternal and perinatal morbidity is associated with longer labor duration due to the slow progression of fetal descent, but accurate assessment of fetal descent by monitoring the fetal head (FH) station remains a clinical challenge in guiding obstetric management. Based on clinical findings, the transvaginal digital examination is the most commonly used clinical estimation method of fetal station. However, this traditional approach is very subjective, often difficult, and unreliable. The need of an objective diagnosis found its solution in the use of transperineal ultrasound (TPU) able to assess FH station by measuring the angle of progression (AoP) that is the extension the FH goes through in its descent."
      ],
      "metadata": {
        "id": "EBQiTrS71x-A"
      }
    },
    {
      "cell_type": "markdown",
      "source": [
        "## Required Library"
      ],
      "metadata": {
        "id": "r8CCmd964_aG"
      }
    },
    {
      "cell_type": "code",
      "source": [
        "!pip install pipreqs"
      ],
      "metadata": {
        "colab": {
          "base_uri": "https://localhost:8080/"
        },
        "id": "XIcDiHh0lIkP",
        "outputId": "9f4b2550-4944-47e2-faa2-6872b98b0fa1"
      },
      "execution_count": null,
      "outputs": [
        {
          "output_type": "stream",
          "name": "stdout",
          "text": [
            "Collecting pipreqs\n",
            "  Downloading pipreqs-0.4.13-py2.py3-none-any.whl (33 kB)\n",
            "Collecting docopt (from pipreqs)\n",
            "  Downloading docopt-0.6.2.tar.gz (25 kB)\n",
            "  Preparing metadata (setup.py) ... \u001b[?25l\u001b[?25hdone\n",
            "Collecting yarg (from pipreqs)\n",
            "  Downloading yarg-0.1.9-py2.py3-none-any.whl (19 kB)\n",
            "Requirement already satisfied: requests in /usr/local/lib/python3.10/dist-packages (from yarg->pipreqs) (2.31.0)\n",
            "Requirement already satisfied: charset-normalizer<4,>=2 in /usr/local/lib/python3.10/dist-packages (from requests->yarg->pipreqs) (3.2.0)\n",
            "Requirement already satisfied: idna<4,>=2.5 in /usr/local/lib/python3.10/dist-packages (from requests->yarg->pipreqs) (3.4)\n",
            "Requirement already satisfied: urllib3<3,>=1.21.1 in /usr/local/lib/python3.10/dist-packages (from requests->yarg->pipreqs) (2.0.4)\n",
            "Requirement already satisfied: certifi>=2017.4.17 in /usr/local/lib/python3.10/dist-packages (from requests->yarg->pipreqs) (2023.7.22)\n",
            "Building wheels for collected packages: docopt\n",
            "  Building wheel for docopt (setup.py) ... \u001b[?25l\u001b[?25hdone\n",
            "  Created wheel for docopt: filename=docopt-0.6.2-py2.py3-none-any.whl size=13705 sha256=701035d520aba45d17d0f83d9e097e564e15e9101d2c0101c34f61634cb21d53\n",
            "  Stored in directory: /root/.cache/pip/wheels/fc/ab/d4/5da2067ac95b36618c629a5f93f809425700506f72c9732fac\n",
            "Successfully built docopt\n",
            "Installing collected packages: docopt, yarg, pipreqs\n",
            "Successfully installed docopt-0.6.2 pipreqs-0.4.13 yarg-0.1.9\n"
          ]
        }
      ]
    },
    {
      "cell_type": "code",
      "source": [
        "!pip install SimpleITK"
      ],
      "metadata": {
        "colab": {
          "base_uri": "https://localhost:8080/"
        },
        "id": "WO7I9M9z5CTl",
        "outputId": "01edf269-5711-498e-fdf2-e818abc085b6"
      },
      "execution_count": null,
      "outputs": [
        {
          "output_type": "stream",
          "name": "stdout",
          "text": [
            "Collecting SimpleITK\n",
            "  Downloading SimpleITK-2.2.1-cp310-cp310-manylinux_2_17_x86_64.manylinux2014_x86_64.whl (52.7 MB)\n",
            "\u001b[2K     \u001b[90m━━━━━━━━━━━━━━━━━━━━━━━━━━━━━━━━━━━━━━━━\u001b[0m \u001b[32m52.7/52.7 MB\u001b[0m \u001b[31m10.9 MB/s\u001b[0m eta \u001b[36m0:00:00\u001b[0m\n",
            "\u001b[?25hInstalling collected packages: SimpleITK\n",
            "Successfully installed SimpleITK-2.2.1\n"
          ]
        }
      ]
    },
    {
      "cell_type": "markdown",
      "source": [
        "## Mount Google Drive to access your data"
      ],
      "metadata": {
        "id": "cOlfrojZ1u1O"
      }
    },
    {
      "cell_type": "code",
      "source": [
        "from google.colab import drive\n",
        "drive.mount('/content/drive')"
      ],
      "metadata": {
        "id": "IpfkYkot1qBG",
        "colab": {
          "base_uri": "https://localhost:8080/"
        },
        "outputId": "0f244ec8-a655-48e2-d625-455816363a8b"
      },
      "execution_count": null,
      "outputs": [
        {
          "output_type": "stream",
          "name": "stdout",
          "text": [
            "Mounted at /content/drive\n"
          ]
        }
      ]
    },
    {
      "cell_type": "code",
      "source": [
        "pretrain_root_path = '/content/drive/MyDrive/Other_Data/XPIE/XPIE_What is a Salient Object/Ground/'\n",
        "root_path = '/content/drive/MyDrive/MICCAI 2023'"
      ],
      "metadata": {
        "id": "XALZRiBO15Kp"
      },
      "execution_count": null,
      "outputs": []
    },
    {
      "cell_type": "markdown",
      "source": [
        "## Explore Pre-train Data Examples"
      ],
      "metadata": {
        "id": "94QEdm0p17VC"
      }
    },
    {
      "cell_type": "markdown",
      "source": [
        "XPIE\n",
        "http://cvteam.net/projects/CVPR17-ELE/ELE.html"
      ],
      "metadata": {
        "id": "7x-TbVWok-wE"
      }
    },
    {
      "cell_type": "code",
      "source": [
        "import torch\n",
        "import torch.nn as nn\n",
        "import torchvision.transforms.functional as TF\n",
        "from PIL import Image\n",
        "import numpy as np"
      ],
      "metadata": {
        "id": "euHi4WYW1-TL"
      },
      "execution_count": null,
      "outputs": []
    },
    {
      "cell_type": "code",
      "source": [
        "import SimpleITK as sitk\n",
        "from skimage.util import montage as montage2d\n",
        "import matplotlib.pyplot as plt"
      ],
      "metadata": {
        "id": "N4eKitBM4k7A"
      },
      "execution_count": null,
      "outputs": []
    },
    {
      "cell_type": "code",
      "source": [
        "import sys\n",
        "np.set_printoptions(threshold=sys.maxsize)"
      ],
      "metadata": {
        "id": "VneOJ63mZKfe"
      },
      "execution_count": null,
      "outputs": []
    },
    {
      "cell_type": "markdown",
      "source": [
        "SimpleITK Instruction:\n",
        "http://insightsoftwareconsortium.github.io/SimpleITK-Notebooks/Python_html/03_Image_Details.html\n",
        "http://insightsoftwareconsortium.github.io/SimpleITK-Notebooks/Python_html/04_Image_Display.html"
      ],
      "metadata": {
        "id": "dpkfDN-nIdHU"
      }
    },
    {
      "cell_type": "code",
      "source": [
        "train_data_dir = root_path + '/train_data'"
      ],
      "metadata": {
        "id": "bgjxE-k75MeN"
      },
      "execution_count": null,
      "outputs": []
    },
    {
      "cell_type": "markdown",
      "source": [
        "## View Example Images"
      ],
      "metadata": {
        "id": "TZfIz2re_9vK"
      }
    },
    {
      "cell_type": "code",
      "source": [
        "def image_reader(img_path, isMask):\n",
        "  img = sitk.ReadImage(img_path)\n",
        "  nda = sitk.GetArrayFromImage(img)\n",
        "  #print(nda.shape)\n",
        "\n",
        "  if isMask:\n",
        "    img_rgb = Image.fromarray(nda,'L')\n",
        "    img_array = nda\n",
        "  else:\n",
        "    img_array = np.transpose(nda,(1,2,0))\n",
        "    img_rgb = Image.fromarray(img_array,'RGB')\n",
        "\n",
        "  return img_rgb, img_array"
      ],
      "metadata": {
        "id": "is5ax36xt6G4"
      },
      "execution_count": null,
      "outputs": []
    },
    {
      "cell_type": "code",
      "source": [
        "image = sitk.ReadImage(train_data_dir + '/image_mha/00001.mha')"
      ],
      "metadata": {
        "id": "cFeLj1c35Ji7"
      },
      "execution_count": null,
      "outputs": []
    },
    {
      "cell_type": "code",
      "source": [
        "print(image.GetDimension())\n",
        "print(image.GetWidth())\n",
        "print(image.GetHeight())\n",
        "print(image.GetSize())\n",
        "print(image.GetNumberOfComponentsPerPixel())\n",
        "print(image.GetDepth())"
      ],
      "metadata": {
        "colab": {
          "base_uri": "https://localhost:8080/"
        },
        "id": "81WLOngqJFGx",
        "outputId": "def4a76a-71bc-413b-948d-c38b37eee043"
      },
      "execution_count": null,
      "outputs": [
        {
          "output_type": "stream",
          "name": "stdout",
          "text": [
            "3\n",
            "256\n",
            "256\n",
            "(256, 256, 3)\n",
            "1\n",
            "3\n"
          ]
        }
      ]
    },
    {
      "cell_type": "code",
      "source": [
        "nda = sitk.GetArrayFromImage(image)\n",
        "print(nda.shape)"
      ],
      "metadata": {
        "colab": {
          "base_uri": "https://localhost:8080/"
        },
        "id": "iAq3xGcZE9wy",
        "outputId": "1684bbca-04ed-43e0-bfc7-0531cab9fadf"
      },
      "execution_count": null,
      "outputs": [
        {
          "output_type": "stream",
          "name": "stdout",
          "text": [
            "(3, 256, 256)\n"
          ]
        }
      ]
    },
    {
      "cell_type": "code",
      "source": [
        "image_xslice = sitk.GetArrayViewFromImage(image)[0,:,:]\n",
        "image_yslice = sitk.GetArrayViewFromImage(image)[1,:,:]\n",
        "image_zslice = sitk.GetArrayViewFromImage(image)[2,:,:]"
      ],
      "metadata": {
        "id": "WRHmvLjMDA7y"
      },
      "execution_count": null,
      "outputs": []
    },
    {
      "cell_type": "code",
      "source": [
        "fig = plt.figure(figsize=(10,3))\n",
        "\n",
        "fig.add_subplot(1,3,1)\n",
        "plt.imshow(image_xslice)\n",
        "plt.title('default colormap xslice', fontsize=10)\n",
        "plt.axis('off')\n",
        "\n",
        "fig.add_subplot(1,3,2)\n",
        "plt.imshow(image_yslice);\n",
        "plt.title('default colormap yslice', fontsize=10)\n",
        "plt.axis('off')\n",
        "\n",
        "fig.add_subplot(1,3,3)\n",
        "plt.title('default colormap zslice', fontsize=10)\n",
        "plt.imshow(image_zslice)\n",
        "plt.axis('off');"
      ],
      "metadata": {
        "colab": {
          "base_uri": "https://localhost:8080/",
          "height": 284
        },
        "id": "qD2w4Gg1CkUX",
        "outputId": "954b4247-84de-49ba-d8c8-f84bd4b4f86f"
      },
      "execution_count": null,
      "outputs": [
        {
          "output_type": "display_data",
          "data": {
            "text/plain": [
              "<Figure size 1000x300 with 3 Axes>"
            ],
            "image/png": "[encoded data removed]"
          },
          "metadata": {}
        }
      ]
    },
    {
      "cell_type": "code",
      "source": [
        "mask = sitk.ReadImage(train_data_dir + '/label_mha/00001.mha')"
      ],
      "metadata": {
        "id": "nC9oCJ7REj8x"
      },
      "execution_count": null,
      "outputs": []
    },
    {
      "cell_type": "code",
      "source": [
        "print(mask.GetDimension())\n",
        "print(mask.GetWidth())\n",
        "print(mask.GetHeight())\n",
        "print(mask.GetSize())\n",
        "print(mask.GetNumberOfComponentsPerPixel())\n",
        "print(mask.GetDepth())"
      ],
      "metadata": {
        "colab": {
          "base_uri": "https://localhost:8080/"
        },
        "id": "8ot1r8Y3LWzb",
        "outputId": "59be3d6a-0d02-4444-99f2-fd41d9c35919"
      },
      "execution_count": null,
      "outputs": [
        {
          "output_type": "stream",
          "name": "stdout",
          "text": [
            "2\n",
            "256\n",
            "256\n",
            "(256, 256)\n",
            "1\n",
            "0\n"
          ]
        }
      ]
    },
    {
      "cell_type": "code",
      "source": [
        "mask_xslice = sitk.GetArrayViewFromImage(mask)\n",
        "#mask_yslice = sitk.GetArrayViewFromImage(mask)[1,:,:]\n",
        "#mask_zslice = sitk.GetArrayViewFromImage(image)[2,:,:]"
      ],
      "metadata": {
        "id": "HrnVht9hLQHY"
      },
      "execution_count": null,
      "outputs": []
    },
    {
      "cell_type": "code",
      "source": [
        "fig = plt.figure(figsize=(10,3))\n",
        "\n",
        "fig.add_subplot(1,1,1)\n",
        "plt.imshow(mask_xslice)\n",
        "plt.title('default colormap mask', fontsize=10)\n",
        "plt.axis('off')"
      ],
      "metadata": {
        "colab": {
          "base_uri": "https://localhost:8080/",
          "height": 305
        },
        "id": "G64GzATXLTA1",
        "outputId": "2fed3a5e-1cd6-4ee0-e54a-0d11a3907165"
      },
      "execution_count": null,
      "outputs": [
        {
          "output_type": "execute_result",
          "data": {
            "text/plain": [
              "(-0.5, 255.5, 255.5, -0.5)"
            ]
          },
          "metadata": {},
          "execution_count": 12
        },
        {
          "output_type": "display_data",
          "data": {
            "text/plain": [
              "<Figure size 1000x300 with 1 Axes>"
            ],
            "image/png": "[encoded data removed]"
          },
          "metadata": {}
        }
      ]
    },
    {
      "cell_type": "code",
      "source": [
        "index = 200"
      ],
      "metadata": {
        "id": "02enYPlHc8vj"
      },
      "execution_count": null,
      "outputs": []
    },
    {
      "cell_type": "code",
      "source": [
        "image, img_np = image_reader(train_data_dir + f'/image_mha/{index:05d}.mha', False)\n",
        "mask, mask_np = image_reader(train_data_dir + f'/label_mha/{index:05d}.mha', True)"
      ],
      "metadata": {
        "id": "H4QeEZNiSRGR"
      },
      "execution_count": null,
      "outputs": []
    },
    {
      "cell_type": "code",
      "source": [
        "#mask2, mask2_np = image_reader(train_data_dir + '/label_mha/04000.mha', True)"
      ],
      "metadata": {
        "id": "OMnIho8zhNpx"
      },
      "execution_count": null,
      "outputs": []
    },
    {
      "cell_type": "code",
      "source": [
        "fig = plt.figure(figsize=(5,5))\n",
        "\n",
        "fig.add_subplot(1,2,1)\n",
        "plt.imshow(img_np)\n",
        "plt.title('example colormap image', fontsize=10)\n",
        "plt.axis('off')\n",
        "\n",
        "fig.add_subplot(1,2,2)\n",
        "plt.imshow(mask_np);\n",
        "plt.title('example colormap mask', fontsize=10)\n",
        "plt.axis('off')"
      ],
      "metadata": {
        "colab": {
          "base_uri": "https://localhost:8080/",
          "height": 249
        },
        "id": "y1G4Bz7EXD2Q",
        "outputId": "3a01c36e-66a2-46c8-f639-174132131b0c"
      },
      "execution_count": null,
      "outputs": [
        {
          "output_type": "execute_result",
          "data": {
            "text/plain": [
              "(-0.5, 255.5, 255.5, -0.5)"
            ]
          },
          "metadata": {},
          "execution_count": 20
        },
        {
          "output_type": "display_data",
          "data": {
            "text/plain": [
              "<Figure size 500x500 with 2 Axes>"
            ],
            "image/png": "[encoded data removed]"
          },
          "metadata": {}
        }
      ]
    },
    {
      "cell_type": "code",
      "source": [
        "mask_np = torch.tensor(mask_np)\n",
        "#mask2_np = torch.tensor(mask2_np)"
      ],
      "metadata": {
        "id": "fBWX4pdehVwl"
      },
      "execution_count": null,
      "outputs": []
    },
    {
      "cell_type": "code",
      "source": [
        "import torch.nn.functional as F\n",
        "mask_dict = {0:'background', 1:'ground', 2:'head'}\n",
        "mask_np = mask_np.type(torch.LongTensor)\n",
        "main_mask = F.one_hot(mask_np, len(mask_dict))\n",
        "main_mask = np.asarray(main_mask)\n",
        "main_mask.shape"
      ],
      "metadata": {
        "id": "EIPQP3kz5XqL"
      },
      "execution_count": null,
      "outputs": []
    },
    {
      "cell_type": "code",
      "source": [
        "fig = plt.figure(figsize=(10,3))\n",
        "\n",
        "fig.add_subplot(1,3,1)\n",
        "plt.imshow(main_mask[:,:,0])\n",
        "plt.title('default colormap xslice', fontsize=10)\n",
        "plt.axis('off')\n",
        "\n",
        "fig.add_subplot(1,3,2)\n",
        "plt.imshow(main_mask[:,:,1]);\n",
        "plt.title('default colormap yslice', fontsize=10)\n",
        "plt.axis('off')\n",
        "\n",
        "fig.add_subplot(1,3,3)\n",
        "plt.title('default colormap zslice', fontsize=10)\n",
        "plt.imshow(main_mask[:,:,2])\n",
        "plt.axis('off');"
      ],
      "metadata": {
        "colab": {
          "base_uri": "https://localhost:8080/",
          "height": 284
        },
        "id": "rcN6WqfM9A-D",
        "outputId": "2122dce7-00b8-4158-df3b-efada2fcffdf"
      },
      "execution_count": null,
      "outputs": [
        {
          "output_type": "display_data",
          "data": {
            "text/plain": [
              "<Figure size 1000x300 with 3 Axes>"
            ],
            "image/png": "[encoded data removed]"
          },
          "metadata": {}
        }
      ]
    },
    {
      "cell_type": "markdown",
      "source": [
        "## Dataset Preparation\n",
        "\n"
      ],
      "metadata": {
        "id": "lpa6qNmpYLc_"
      }
    },
    {
      "cell_type": "code",
      "source": [
        "import os\n",
        "from torch.utils.data import Dataset\n",
        "from torch.utils.data import DataLoader\n",
        "import albumentations as A\n",
        "from albumentations.pytorch import ToTensorV2\n",
        "import numpy as np\n",
        "import glob\n",
        "import torch.nn.functional as F\n",
        "import torchvision.transforms as T"
      ],
      "metadata": {
        "id": "89bsATsDYOcK"
      },
      "execution_count": null,
      "outputs": []
    },
    {
      "cell_type": "code",
      "source": [
        "TRAIN_IMG_DIR = root_path + '/train_data/image_mha/'\n",
        "TRAIN_MASK_DIR = root_path + '/train_data/label_mha/'\n",
        "\n",
        "VAL_IMG_DIR = root_path + \"/val_data/image_mha/\"\n",
        "VAL_MASK_DIR = root_path + \"/val_data/label_mha/\""
      ],
      "metadata": {
        "id": "eZRHodw6YYqz"
      },
      "execution_count": null,
      "outputs": []
    },
    {
      "cell_type": "code",
      "source": [
        "IMAGE_HEIGHT = 256\n",
        "IMAGE_WIDTH = 256"
      ],
      "metadata": {
        "id": "k_h_t8opb7od"
      },
      "execution_count": null,
      "outputs": []
    },
    {
      "cell_type": "code",
      "source": [
        "train_transform = A.Compose(\n",
        "    [\n",
        "        A.Resize(height=IMAGE_HEIGHT, width=IMAGE_WIDTH),\n",
        "        A.CoarseDropout(\n",
        "            max_holes = 4, # Maximum number of regions to zero out. (default: 8)\n",
        "            max_height = 4, # Maximum height of the hole. (default: 8)\n",
        "            max_width = 4, # Maximum width of the hole. (default: 8)\n",
        "            min_holes=None, # Minimum number of regions to zero out. (default: None, which equals max_holes)\n",
        "            min_height=None, # Minimum height of the hole. (default: None, which equals max_height)\n",
        "            min_width=None, # Minimum width of the hole. (default: None, which equals max_width)\n",
        "            fill_value=0, # value for dropped pixels.\n",
        "            mask_fill_value=None, # fill value for dropped pixels in mask.\n",
        "            always_apply=False,\n",
        "            p=0.5\n",
        "            ),\n",
        "        A.Rotate(limit=25, p=1.0),\n",
        "        A.HorizontalFlip(p=0.5),\n",
        "        A.VerticalFlip(p=0.3),\n",
        "        A.Normalize(\n",
        "            mean=[0.0, 0.0, 0.0],\n",
        "            std=[1.0, 1.0, 1.0],\n",
        "            max_pixel_value=255.0,\n",
        "        ),\n",
        "        ToTensorV2(),\n",
        "     ],\n",
        ")\n",
        "\n",
        "val_transforms = A.Compose(\n",
        "    [\n",
        "        A.Resize(height=IMAGE_HEIGHT, width=IMAGE_WIDTH),\n",
        "        A.Normalize(\n",
        "            mean=[0.0, 0.0, 0.0],\n",
        "            std=[1.0, 1.0, 1.0],\n",
        "            max_pixel_value=255.0,\n",
        "        ),\n",
        "        ToTensorV2(),\n",
        "     ],\n",
        ")"
      ],
      "metadata": {
        "id": "eGXTkVasbyur"
      },
      "execution_count": null,
      "outputs": []
    },
    {
      "cell_type": "code",
      "source": [
        "CLASSES = ['background','head','pubic symphysis']"
      ],
      "metadata": {
        "id": "KGAY3qL197Db"
      },
      "execution_count": null,
      "outputs": []
    },
    {
      "cell_type": "code",
      "source": [
        "class FetalUSDataset(Dataset):\n",
        "  def __init__(self, image_dir, mask_dir, transform=None):\n",
        "    self.image_dir = image_dir\n",
        "    self.mask_dir = mask_dir\n",
        "    self.transform = transform\n",
        "    self.images = os.listdir(image_dir)\n",
        "\n",
        "  def __len__(self):\n",
        "    return len(self.images)\n",
        "\n",
        "  def __getitem__(self, index):\n",
        "    img_path = os.path.join(self.image_dir, self.images[index])\n",
        "    mask_path = os.path.join(self.mask_dir, self.images[index])\n",
        "\n",
        "    _, image = image_reader(img_path, False)\n",
        "    _, mask = image_reader(mask_path, True)\n",
        "\n",
        "    #image = np.array(Image.open(img_path).convert(\"RGB\"))\n",
        "    #mask = fill_contour_region(mask_path)\n",
        "    #mask = np.array(Image.open(mask_path).convert(\"L\"), dtype=np.float32)\n",
        "    #mask[mask == 255.0] = 1.0\n",
        "\n",
        "    if self.transform is not None:\n",
        "      augmentations = self.transform(image=image, mask=mask)\n",
        "      image = augmentations[\"image\"]\n",
        "      mask = augmentations[\"mask\"]\n",
        "\n",
        "    mask = mask.type(torch.LongTensor)\n",
        "    mask_onehot = F.one_hot(mask, len(CLASSES))\n",
        "    mask_stack = torch.stack((mask_onehot[:,:,0], mask_onehot[:,:,1], mask_onehot[:,:,2]))\n",
        "    mask_stack = mask_stack.type(torch.IntTensor)\n",
        "\n",
        "    return image, mask_stack #torch.permute(mask_stack, (2,0,1))"
      ],
      "metadata": {
        "id": "sYSo0BP3Yz4e"
      },
      "execution_count": null,
      "outputs": []
    },
    {
      "cell_type": "code",
      "source": [
        "def get_loaders(\n",
        "    train_dir,\n",
        "    train_maskdir,\n",
        "    val_dir,\n",
        "    val_maskdir,\n",
        "    batch_size,\n",
        "    train_transform,\n",
        "    val_transform,\n",
        "    num_workers=4,\n",
        "    pin_memory=True,\n",
        "    is_split=True,\n",
        "    split_ratio=0.01\n",
        "):\n",
        "    train_ds = FetalUSDataset(\n",
        "        image_dir=train_dir,\n",
        "        mask_dir=train_maskdir,\n",
        "        transform=train_transform,\n",
        "    )\n",
        "\n",
        "    if is_split:\n",
        "      val_size = int(split_ratio * len(train_ds))\n",
        "      train_size = len(train_ds) - val_size\n",
        "      train_ds, val_ds = torch.utils.data.random_split(train_ds, [train_size, val_size])\n",
        "    else:\n",
        "      val_ds = FetalUSDataset(\n",
        "          image_dir=val_dir,\n",
        "          mask_dir=val_maskdir,\n",
        "          transform=val_transform,\n",
        "          )\n",
        "\n",
        "    train_loader = DataLoader(\n",
        "        train_ds,\n",
        "        batch_size=batch_size,\n",
        "        num_workers=num_workers,\n",
        "        pin_memory=pin_memory,\n",
        "        shuffle=True,\n",
        "    )\n",
        "\n",
        "    val_loader = DataLoader(\n",
        "        val_ds,\n",
        "        batch_size=batch_size,\n",
        "        num_workers=num_workers,\n",
        "        pin_memory=pin_memory,\n",
        "        shuffle=False,\n",
        "    )\n",
        "\n",
        "    return train_loader, val_loader"
      ],
      "metadata": {
        "id": "xLZupxk3H8f9"
      },
      "execution_count": null,
      "outputs": []
    },
    {
      "cell_type": "code",
      "source": [
        "'''\n",
        "val_transforms = T.Compose(\n",
        "    [\n",
        "        T.Resize(256),\n",
        "        T.ToTensor(),\n",
        "        T.Normalize(\n",
        "            mean=[0.0, 0.0, 0.0],\n",
        "            std=[1.0, 1.0, 1.0],\n",
        "        ),\n",
        "     ],\n",
        ")\n",
        "'''"
      ],
      "metadata": {
        "id": "gJqhqQzenX5c"
      },
      "execution_count": null,
      "outputs": []
    },
    {
      "cell_type": "code",
      "source": [
        "'''\n",
        "class FetalUSDataset(Dataset):\n",
        "    def __init__(self, image_dir, transform=None):\n",
        "        self.image_dir = image_dir\n",
        "        self.transform = transform\n",
        "        self.images = os.listdir(image_dir)\n",
        "\n",
        "    def __len__(self):\n",
        "        return len(self.images)\n",
        "\n",
        "    def __getitem__(self, index):\n",
        "        img_path = os.path.join(self.image_dir, self.images[index])\n",
        "        img = sitk.ReadImage(img_path)\n",
        "        img_array = np.transpose(sitk.GetArrayFromImage(img), (1, 2, 0))\n",
        "        img_rgb = Image.fromarray(img_array, 'RGB')\n",
        "\n",
        "        if self.transform is not None:\n",
        "            images = self.transform(img_rgb)\n",
        "\n",
        "        return images\n",
        "'''"
      ],
      "metadata": {
        "id": "rpFJW9bEdQp5"
      },
      "execution_count": null,
      "outputs": []
    },
    {
      "cell_type": "markdown",
      "source": [
        "## Training Model"
      ],
      "metadata": {
        "id": "K5QrTtJAIqGu"
      }
    },
    {
      "cell_type": "code",
      "source": [
        "from statistics import mean"
      ],
      "metadata": {
        "id": "tKb4MH_EmcX9"
      },
      "execution_count": null,
      "outputs": []
    },
    {
      "cell_type": "code",
      "source": [
        "!pip install segmentation-models-pytorch"
      ],
      "metadata": {
        "colab": {
          "base_uri": "https://localhost:8080/"
        },
        "id": "L4QgRChILF6K",
        "outputId": "e9e0bc3a-4e66-4c5e-e581-92a2ff16a592"
      },
      "execution_count": null,
      "outputs": [
        {
          "output_type": "stream",
          "name": "stdout",
          "text": [
            "Collecting segmentation-models-pytorch\n",
            "  Downloading segmentation_models_pytorch-0.3.3-py3-none-any.whl (106 kB)\n",
            "\u001b[?25l     \u001b[90m━━━━━━━━━━━━━━━━━━━━━━━━━━━━━━━━━━━━━━━━\u001b[0m \u001b[32m0.0/106.7 kB\u001b[0m \u001b[31m?\u001b[0m eta \u001b[36m-:--:--\u001b[0m\r\u001b[2K     \u001b[91m━━━━━━━━━━━━━━━━━━━━━━━━━━━━━━━━━━\u001b[0m\u001b[91m╸\u001b[0m\u001b[90m━━━━━\u001b[0m \u001b[32m92.2/106.7 kB\u001b[0m \u001b[31m2.5 MB/s\u001b[0m eta \u001b[36m0:00:01\u001b[0m\r\u001b[2K     \u001b[90m━━━━━━━━━━━━━━━━━━━━━━━━━━━━━━━━━━━━━━━\u001b[0m \u001b[32m106.7/106.7 kB\u001b[0m \u001b[31m2.3 MB/s\u001b[0m eta \u001b[36m0:00:00\u001b[0m\n",
            "\u001b[?25hRequirement already satisfied: torchvision>=0.5.0 in /usr/local/lib/python3.10/dist-packages (from segmentation-models-pytorch) (0.15.2+cu118)\n",
            "Collecting pretrainedmodels==0.7.4 (from segmentation-models-pytorch)\n",
            "  Downloading pretrainedmodels-0.7.4.tar.gz (58 kB)\n",
            "\u001b[?25l     \u001b[90m━━━━━━━━━━━━━━━━━━━━━━━━━━━━━━━━━━━━━━━━\u001b[0m \u001b[32m0.0/58.8 kB\u001b[0m \u001b[31m?\u001b[0m eta \u001b[36m-:--:--\u001b[0m\r\u001b[2K     \u001b[90m━━━━━━━━━━━━━━━━━━━━━━━━━━━━━━━━━━━━━━━━\u001b[0m \u001b[32m58.8/58.8 kB\u001b[0m \u001b[31m8.6 MB/s\u001b[0m eta \u001b[36m0:00:00\u001b[0m\n",
            "\u001b[?25h  Preparing metadata (setup.py) ... \u001b[?25l\u001b[?25hdone\n",
            "Collecting efficientnet-pytorch==0.7.1 (from segmentation-models-pytorch)\n",
            "  Downloading efficientnet_pytorch-0.7.1.tar.gz (21 kB)\n",
            "  Preparing metadata (setup.py) ... \u001b[?25l\u001b[?25hdone\n",
            "Collecting timm==0.9.2 (from segmentation-models-pytorch)\n",
            "  Downloading timm-0.9.2-py3-none-any.whl (2.2 MB)\n",
            "\u001b[2K     \u001b[90m━━━━━━━━━━━━━━━━━━━━━━━━━━━━━━━━━━━━━━━━\u001b[0m \u001b[32m2.2/2.2 MB\u001b[0m \u001b[31m68.6 MB/s\u001b[0m eta \u001b[36m0:00:00\u001b[0m\n",
            "\u001b[?25hRequirement already satisfied: tqdm in /usr/local/lib/python3.10/dist-packages (from segmentation-models-pytorch) (4.66.1)\n",
            "Requirement already satisfied: pillow in /usr/local/lib/python3.10/dist-packages (from segmentation-models-pytorch) (9.4.0)\n",
            "Requirement already satisfied: torch in /usr/local/lib/python3.10/dist-packages (from efficientnet-pytorch==0.7.1->segmentation-models-pytorch) (2.0.1+cu118)\n",
            "Collecting munch (from pretrainedmodels==0.7.4->segmentation-models-pytorch)\n",
            "  Downloading munch-4.0.0-py2.py3-none-any.whl (9.9 kB)\n",
            "Requirement already satisfied: pyyaml in /usr/local/lib/python3.10/dist-packages (from timm==0.9.2->segmentation-models-pytorch) (6.0.1)\n",
            "Collecting huggingface-hub (from timm==0.9.2->segmentation-models-pytorch)\n",
            "  Downloading huggingface_hub-0.16.4-py3-none-any.whl (268 kB)\n",
            "\u001b[2K     \u001b[90m━━━━━━━━━━━━━━━━━━━━━━━━━━━━━━━━━━━━━━\u001b[0m \u001b[32m268.8/268.8 kB\u001b[0m \u001b[31m34.1 MB/s\u001b[0m eta \u001b[36m0:00:00\u001b[0m\n",
            "\u001b[?25hCollecting safetensors (from timm==0.9.2->segmentation-models-pytorch)\n",
            "  Downloading safetensors-0.3.3-cp310-cp310-manylinux_2_17_x86_64.manylinux2014_x86_64.whl (1.3 MB)\n",
            "\u001b[2K     \u001b[90m━━━━━━━━━━━━━━━━━━━━━━━━━━━━━━━━━━━━━━━━\u001b[0m \u001b[32m1.3/1.3 MB\u001b[0m \u001b[31m61.8 MB/s\u001b[0m eta \u001b[36m0:00:00\u001b[0m\n",
            "\u001b[?25hRequirement already satisfied: numpy in /usr/local/lib/python3.10/dist-packages (from torchvision>=0.5.0->segmentation-models-pytorch) (1.23.5)\n",
            "Requirement already satisfied: requests in /usr/local/lib/python3.10/dist-packages (from torchvision>=0.5.0->segmentation-models-pytorch) (2.31.0)\n",
            "Requirement already satisfied: filelock in /usr/local/lib/python3.10/dist-packages (from torch->efficientnet-pytorch==0.7.1->segmentation-models-pytorch) (3.12.3)\n",
            "Requirement already satisfied: typing-extensions in /usr/local/lib/python3.10/dist-packages (from torch->efficientnet-pytorch==0.7.1->segmentation-models-pytorch) (4.7.1)\n",
            "Requirement already satisfied: sympy in /usr/local/lib/python3.10/dist-packages (from torch->efficientnet-pytorch==0.7.1->segmentation-models-pytorch) (1.12)\n",
            "Requirement already satisfied: networkx in /usr/local/lib/python3.10/dist-packages (from torch->efficientnet-pytorch==0.7.1->segmentation-models-pytorch) (3.1)\n",
            "Requirement already satisfied: jinja2 in /usr/local/lib/python3.10/dist-packages (from torch->efficientnet-pytorch==0.7.1->segmentation-models-pytorch) (3.1.2)\n",
            "Requirement already satisfied: triton==2.0.0 in /usr/local/lib/python3.10/dist-packages (from torch->efficientnet-pytorch==0.7.1->segmentation-models-pytorch) (2.0.0)\n",
            "Requirement already satisfied: cmake in /usr/local/lib/python3.10/dist-packages (from triton==2.0.0->torch->efficientnet-pytorch==0.7.1->segmentation-models-pytorch) (3.27.2)\n",
            "Requirement already satisfied: lit in /usr/local/lib/python3.10/dist-packages (from triton==2.0.0->torch->efficientnet-pytorch==0.7.1->segmentation-models-pytorch) (16.0.6)\n",
            "Requirement already satisfied: fsspec in /usr/local/lib/python3.10/dist-packages (from huggingface-hub->timm==0.9.2->segmentation-models-pytorch) (2023.6.0)\n",
            "Requirement already satisfied: packaging>=20.9 in /usr/local/lib/python3.10/dist-packages (from huggingface-hub->timm==0.9.2->segmentation-models-pytorch) (23.1)\n",
            "Requirement already satisfied: charset-normalizer<4,>=2 in /usr/local/lib/python3.10/dist-packages (from requests->torchvision>=0.5.0->segmentation-models-pytorch) (3.2.0)\n",
            "Requirement already satisfied: idna<4,>=2.5 in /usr/local/lib/python3.10/dist-packages (from requests->torchvision>=0.5.0->segmentation-models-pytorch) (3.4)\n",
            "Requirement already satisfied: urllib3<3,>=1.21.1 in /usr/local/lib/python3.10/dist-packages (from requests->torchvision>=0.5.0->segmentation-models-pytorch) (2.0.4)\n",
            "Requirement already satisfied: certifi>=2017.4.17 in /usr/local/lib/python3.10/dist-packages (from requests->torchvision>=0.5.0->segmentation-models-pytorch) (2023.7.22)\n",
            "Requirement already satisfied: MarkupSafe>=2.0 in /usr/local/lib/python3.10/dist-packages (from jinja2->torch->efficientnet-pytorch==0.7.1->segmentation-models-pytorch) (2.1.3)\n",
            "Requirement already satisfied: mpmath>=0.19 in /usr/local/lib/python3.10/dist-packages (from sympy->torch->efficientnet-pytorch==0.7.1->segmentation-models-pytorch) (1.3.0)\n",
            "Building wheels for collected packages: efficientnet-pytorch, pretrainedmodels\n",
            "  Building wheel for efficientnet-pytorch (setup.py) ... \u001b[?25l\u001b[?25hdone\n",
            "  Created wheel for efficientnet-pytorch: filename=efficientnet_pytorch-0.7.1-py3-none-any.whl size=16428 sha256=37533215a4b8b94370227719b5cdea27d7591c65e9e47e0f362396a1d36d06fc\n",
            "  Stored in directory: /root/.cache/pip/wheels/03/3f/e9/911b1bc46869644912bda90a56bcf7b960f20b5187feea3baf\n",
            "  Building wheel for pretrainedmodels (setup.py) ... \u001b[?25l\u001b[?25hdone\n",
            "  Created wheel for pretrainedmodels: filename=pretrainedmodels-0.7.4-py3-none-any.whl size=60943 sha256=c826ec1e9fee03d132dd5849d8b63e6d49cc493959bbf9f29551159aea887665\n",
            "  Stored in directory: /root/.cache/pip/wheels/35/cb/a5/8f534c60142835bfc889f9a482e4a67e0b817032d9c6883b64\n",
            "Successfully built efficientnet-pytorch pretrainedmodels\n",
            "Installing collected packages: safetensors, munch, huggingface-hub, timm, pretrainedmodels, efficientnet-pytorch, segmentation-models-pytorch\n",
            "Successfully installed efficientnet-pytorch-0.7.1 huggingface-hub-0.16.4 munch-4.0.0 pretrainedmodels-0.7.4 safetensors-0.3.3 segmentation-models-pytorch-0.3.3 timm-0.9.2\n"
          ]
        }
      ]
    },
    {
      "cell_type": "code",
      "source": [
        "from tqdm import tqdm\n",
        "import torch.nn as nn\n",
        "import torch.optim as optim\n",
        "from torchvision.utils import save_image"
      ],
      "metadata": {
        "id": "MF0t8RXsI0OG"
      },
      "execution_count": null,
      "outputs": []
    },
    {
      "cell_type": "code",
      "source": [
        "import segmentation_models_pytorch as smp\n",
        "import segmentation_models_pytorch.utils.metrics\n",
        "from segmentation_models_pytorch.losses import DiceLoss, JaccardLoss, SoftBCEWithLogitsLoss"
      ],
      "metadata": {
        "id": "uY4fQopEMH4G"
      },
      "execution_count": null,
      "outputs": []
    },
    {
      "cell_type": "code",
      "source": [
        "# Hyperparameters etc.\n",
        "LEARNING_RATE = 1e-4\n",
        "DEVICE = \"cuda\" if torch.cuda.is_available() else \"cpu\"\n",
        "BATCH_SIZE = 10\n",
        "NUM_EPOCHS = 20\n",
        "NUM_WORKERS = 2\n",
        "IMAGE_HEIGHT = 256\n",
        "IMAGE_WIDTH = 256\n",
        "PIN_MEMORY = True\n",
        "LOAD_MODEL = False\n",
        "\n",
        "# if encoder needs to be frozen, set below flag = True\n",
        "freeze_flag = False"
      ],
      "metadata": {
        "id": "Kk71GY5sI0Q4"
      },
      "execution_count": null,
      "outputs": []
    },
    {
      "cell_type": "code",
      "source": [
        "def save_checkpoint(state, filename=\"my_checkpoint.pth.tar\"):\n",
        "    print(\"=> Saving checkpoint\")\n",
        "    torch.save(state, filename)\n",
        "\n",
        "def load_checkpoint(checkpoint, model):\n",
        "    print(\"=> Loading checkpoint\")\n",
        "    model.load_state_dict(checkpoint[\"state_dict\"])\n",
        "\n",
        "def save_model(model, filename=\"best_unet_model.pth\"):\n",
        "    print(\"=> Saving model\")\n",
        "    torch.save(model, filename)\n",
        "    print('Model saved!')"
      ],
      "metadata": {
        "id": "shkPBodYI0TU"
      },
      "execution_count": null,
      "outputs": []
    },
    {
      "cell_type": "code",
      "source": [
        "def save_predictions_as_imgs(loader, model, folder=\"saved_images/\", device=\"cuda\"):\n",
        "    model.eval()\n",
        "    for idx, (x, y) in enumerate(loader):\n",
        "        x = x.to(device=device)\n",
        "        with torch.no_grad():\n",
        "            preds = torch.sigmoid(model(x))\n",
        "            preds = (preds > 0.5).float()\n",
        "        save_image(\n",
        "            preds, f\"{folder}/pred_{idx}.png\"\n",
        "        )\n",
        "        save_image(y.unsqueeze(1), f\"{folder}{idx}.png\")\n",
        "\n",
        "    model.train()"
      ],
      "metadata": {
        "id": "fU_Z2aQ9L4_p"
      },
      "execution_count": null,
      "outputs": []
    },
    {
      "cell_type": "code",
      "source": [
        "# resnet18,mit_b0,densenet121,timm-resnest14d,timm-resnest50d\n",
        "ENCODER = 'mit_b0'\n",
        "ENCODER_WEIGHTS = 'imagenet'\n",
        "CLASSES = ['background','head','pubic symphysis']\n",
        "ACTIVATION = 'softmax2d' # could be None for logits or 'softmax2d' for multiclass segmentation\n",
        "\n",
        "AUX_PARAMS=dict(\n",
        "    pooling='max',           # one of 'avg', 'max'\n",
        "    dropout=0.2,            # try to avoid overfitting\n",
        "    activation='softmax',  # activation function, default is None\n",
        "    #activation='sigmoid',\n",
        "    classes=len(CLASSES),    # define number of output labels\n",
        ")"
      ],
      "metadata": {
        "id": "SC-mjfBxP5Wl"
      },
      "execution_count": null,
      "outputs": []
    },
    {
      "cell_type": "code",
      "source": [
        "# create segmentation model with pretrained encoder\n",
        "unet_model = smp.Unet(\n",
        "    encoder_name=ENCODER,\n",
        "    encoder_weights=ENCODER_WEIGHTS,\n",
        "    decoder_attention_type=None,\n",
        "    classes=len(CLASSES),\n",
        "    activation=ACTIVATION,\n",
        "    aux_params=AUX_PARAMS\n",
        ")\n",
        "\n",
        "preprocessing_fn = smp.encoders.get_preprocessing_fn(ENCODER, ENCODER_WEIGHTS)"
      ],
      "metadata": {
        "id": "rnoiFsIGQhSc",
        "colab": {
          "base_uri": "https://localhost:8080/"
        },
        "outputId": "238b7a83-9e29-4436-dc9c-75a9f8c2113e"
      },
      "execution_count": null,
      "outputs": [
        {
          "output_type": "stream",
          "name": "stderr",
          "text": [
            "Downloading: \"https://github.com/qubvel/segmentation_models.pytorch/releases/download/v0.0.2/mit_b0.pth\" to /root/.cache/torch/hub/checkpoints/mit_b0.pth\n",
            "100%|██████████| 13.7M/13.7M [00:01<00:00, 12.0MB/s]\n"
          ]
        }
      ]
    },
    {
      "cell_type": "code",
      "source": [
        "model = unet_model\n",
        "\n",
        "if freeze_flag:\n",
        "  model_name = f'unet_frozen_{ENCODER}'\n",
        "else:\n",
        "  model_name = f'unet_{ENCODER}'\n",
        "\n",
        "print(model_name)"
      ],
      "metadata": {
        "id": "LJTstvU3Qmgo",
        "colab": {
          "base_uri": "https://localhost:8080/"
        },
        "outputId": "20869b2c-6bee-45c4-c1a8-39fbcf3a71bc"
      },
      "execution_count": null,
      "outputs": [
        {
          "output_type": "stream",
          "name": "stdout",
          "text": [
            "unet_mit_b0\n"
          ]
        }
      ]
    },
    {
      "cell_type": "code",
      "source": [
        "'''\n",
        "for param in model.encoder.parameters():\n",
        "  param.requires_grad = False\n",
        "\n",
        "for param in model.decoder.parameters():\n",
        "  param.requires_grad = False\n",
        "'''"
      ],
      "metadata": {
        "id": "nev5YmpcQzCn"
      },
      "execution_count": null,
      "outputs": []
    },
    {
      "cell_type": "code",
      "source": [
        "model.classification_head = None"
      ],
      "metadata": {
        "id": "WwLYspg3Mp5R"
      },
      "execution_count": null,
      "outputs": []
    },
    {
      "cell_type": "code",
      "source": [
        "print(model)"
      ],
      "metadata": {
        "id": "5z-knBImNreD",
        "colab": {
          "base_uri": "https://localhost:8080/"
        },
        "outputId": "d3047481-5608-47c3-947a-186a0f08f540"
      },
      "execution_count": null,
      "outputs": [
        {
          "output_type": "stream",
          "name": "stdout",
          "text": [
            "Unet(\n",
            "  (encoder): MixVisionTransformerEncoder(\n",
            "    (patch_embed1): OverlapPatchEmbed(\n",
            "      (proj): Conv2d(3, 32, kernel_size=(7, 7), stride=(4, 4), padding=(3, 3))\n",
            "      (norm): LayerNorm((32,), eps=1e-05, elementwise_affine=True)\n",
            "    )\n",
            "    (patch_embed2): OverlapPatchEmbed(\n",
            "      (proj): Conv2d(32, 64, kernel_size=(3, 3), stride=(2, 2), padding=(1, 1))\n",
            "      (norm): LayerNorm((64,), eps=1e-05, elementwise_affine=True)\n",
            "    )\n",
            "    (patch_embed3): OverlapPatchEmbed(\n",
            "      (proj): Conv2d(64, 160, kernel_size=(3, 3), stride=(2, 2), padding=(1, 1))\n",
            "      (norm): LayerNorm((160,), eps=1e-05, elementwise_affine=True)\n",
            "    )\n",
            "    (patch_embed4): OverlapPatchEmbed(\n",
            "      (proj): Conv2d(160, 256, kernel_size=(3, 3), stride=(2, 2), padding=(1, 1))\n",
            "      (norm): LayerNorm((256,), eps=1e-05, elementwise_affine=True)\n",
            "    )\n",
            "    (block1): ModuleList(\n",
            "      (0): Block(\n",
            "        (norm1): LayerNorm((32,), eps=1e-06, elementwise_affine=True)\n",
            "        (attn): Attention(\n",
            "          (q): Linear(in_features=32, out_features=32, bias=True)\n",
            "          (kv): Linear(in_features=32, out_features=64, bias=True)\n",
            "          (attn_drop): Dropout(p=0.0, inplace=False)\n",
            "          (proj): Linear(in_features=32, out_features=32, bias=True)\n",
            "          (proj_drop): Dropout(p=0.0, inplace=False)\n",
            "          (sr): Conv2d(32, 32, kernel_size=(8, 8), stride=(8, 8))\n",
            "          (norm): LayerNorm((32,), eps=1e-05, elementwise_affine=True)\n",
            "        )\n",
            "        (drop_path): Identity()\n",
            "        (norm2): LayerNorm((32,), eps=1e-06, elementwise_affine=True)\n",
            "        (mlp): Mlp(\n",
            "          (fc1): Linear(in_features=32, out_features=128, bias=True)\n",
            "          (dwconv): DWConv(\n",
            "            (dwconv): Conv2d(128, 128, kernel_size=(3, 3), stride=(1, 1), padding=(1, 1), groups=128)\n",
            "          )\n",
            "          (act): GELU(approximate='none')\n",
            "          (fc2): Linear(in_features=128, out_features=32, bias=True)\n",
            "          (drop): Dropout(p=0.0, inplace=False)\n",
            "        )\n",
            "      )\n",
            "      (1): Block(\n",
            "        (norm1): LayerNorm((32,), eps=1e-06, elementwise_affine=True)\n",
            "        (attn): Attention(\n",
            "          (q): Linear(in_features=32, out_features=32, bias=True)\n",
            "          (kv): Linear(in_features=32, out_features=64, bias=True)\n",
            "          (attn_drop): Dropout(p=0.0, inplace=False)\n",
            "          (proj): Linear(in_features=32, out_features=32, bias=True)\n",
            "          (proj_drop): Dropout(p=0.0, inplace=False)\n",
            "          (sr): Conv2d(32, 32, kernel_size=(8, 8), stride=(8, 8))\n",
            "          (norm): LayerNorm((32,), eps=1e-05, elementwise_affine=True)\n",
            "        )\n",
            "        (drop_path): DropPath(drop_prob=0.014)\n",
            "        (norm2): LayerNorm((32,), eps=1e-06, elementwise_affine=True)\n",
            "        (mlp): Mlp(\n",
            "          (fc1): Linear(in_features=32, out_features=128, bias=True)\n",
            "          (dwconv): DWConv(\n",
            "            (dwconv): Conv2d(128, 128, kernel_size=(3, 3), stride=(1, 1), padding=(1, 1), groups=128)\n",
            "          )\n",
            "          (act): GELU(approximate='none')\n",
            "          (fc2): Linear(in_features=128, out_features=32, bias=True)\n",
            "          (drop): Dropout(p=0.0, inplace=False)\n",
            "        )\n",
            "      )\n",
            "    )\n",
            "    (norm1): LayerNorm((32,), eps=1e-06, elementwise_affine=True)\n",
            "    (block2): ModuleList(\n",
            "      (0): Block(\n",
            "        (norm1): LayerNorm((64,), eps=1e-06, elementwise_affine=True)\n",
            "        (attn): Attention(\n",
            "          (q): Linear(in_features=64, out_features=64, bias=True)\n",
            "          (kv): Linear(in_features=64, out_features=128, bias=True)\n",
            "          (attn_drop): Dropout(p=0.0, inplace=False)\n",
            "          (proj): Linear(in_features=64, out_features=64, bias=True)\n",
            "          (proj_drop): Dropout(p=0.0, inplace=False)\n",
            "          (sr): Conv2d(64, 64, kernel_size=(4, 4), stride=(4, 4))\n",
            "          (norm): LayerNorm((64,), eps=1e-05, elementwise_affine=True)\n",
            "        )\n",
            "        (drop_path): DropPath(drop_prob=0.029)\n",
            "        (norm2): LayerNorm((64,), eps=1e-06, elementwise_affine=True)\n",
            "        (mlp): Mlp(\n",
            "          (fc1): Linear(in_features=64, out_features=256, bias=True)\n",
            "          (dwconv): DWConv(\n",
            "            (dwconv): Conv2d(256, 256, kernel_size=(3, 3), stride=(1, 1), padding=(1, 1), groups=256)\n",
            "          )\n",
            "          (act): GELU(approximate='none')\n",
            "          (fc2): Linear(in_features=256, out_features=64, bias=True)\n",
            "          (drop): Dropout(p=0.0, inplace=False)\n",
            "        )\n",
            "      )\n",
            "      (1): Block(\n",
            "        (norm1): LayerNorm((64,), eps=1e-06, elementwise_affine=True)\n",
            "        (attn): Attention(\n",
            "          (q): Linear(in_features=64, out_features=64, bias=True)\n",
            "          (kv): Linear(in_features=64, out_features=128, bias=True)\n",
            "          (attn_drop): Dropout(p=0.0, inplace=False)\n",
            "          (proj): Linear(in_features=64, out_features=64, bias=True)\n",
            "          (proj_drop): Dropout(p=0.0, inplace=False)\n",
            "          (sr): Conv2d(64, 64, kernel_size=(4, 4), stride=(4, 4))\n",
            "          (norm): LayerNorm((64,), eps=1e-05, elementwise_affine=True)\n",
            "        )\n",
            "        (drop_path): DropPath(drop_prob=0.043)\n",
            "        (norm2): LayerNorm((64,), eps=1e-06, elementwise_affine=True)\n",
            "        (mlp): Mlp(\n",
            "          (fc1): Linear(in_features=64, out_features=256, bias=True)\n",
            "          (dwconv): DWConv(\n",
            "            (dwconv): Conv2d(256, 256, kernel_size=(3, 3), stride=(1, 1), padding=(1, 1), groups=256)\n",
            "          )\n",
            "          (act): GELU(approximate='none')\n",
            "          (fc2): Linear(in_features=256, out_features=64, bias=True)\n",
            "          (drop): Dropout(p=0.0, inplace=False)\n",
            "        )\n",
            "      )\n",
            "    )\n",
            "    (norm2): LayerNorm((64,), eps=1e-06, elementwise_affine=True)\n",
            "    (block3): ModuleList(\n",
            "      (0): Block(\n",
            "        (norm1): LayerNorm((160,), eps=1e-06, elementwise_affine=True)\n",
            "        (attn): Attention(\n",
            "          (q): Linear(in_features=160, out_features=160, bias=True)\n",
            "          (kv): Linear(in_features=160, out_features=320, bias=True)\n",
            "          (attn_drop): Dropout(p=0.0, inplace=False)\n",
            "          (proj): Linear(in_features=160, out_features=160, bias=True)\n",
            "          (proj_drop): Dropout(p=0.0, inplace=False)\n",
            "          (sr): Conv2d(160, 160, kernel_size=(2, 2), stride=(2, 2))\n",
            "          (norm): LayerNorm((160,), eps=1e-05, elementwise_affine=True)\n",
            "        )\n",
            "        (drop_path): DropPath(drop_prob=0.057)\n",
            "        (norm2): LayerNorm((160,), eps=1e-06, elementwise_affine=True)\n",
            "        (mlp): Mlp(\n",
            "          (fc1): Linear(in_features=160, out_features=640, bias=True)\n",
            "          (dwconv): DWConv(\n",
            "            (dwconv): Conv2d(640, 640, kernel_size=(3, 3), stride=(1, 1), padding=(1, 1), groups=640)\n",
            "          )\n",
            "          (act): GELU(approximate='none')\n",
            "          (fc2): Linear(in_features=640, out_features=160, bias=True)\n",
            "          (drop): Dropout(p=0.0, inplace=False)\n",
            "        )\n",
            "      )\n",
            "      (1): Block(\n",
            "        (norm1): LayerNorm((160,), eps=1e-06, elementwise_affine=True)\n",
            "        (attn): Attention(\n",
            "          (q): Linear(in_features=160, out_features=160, bias=True)\n",
            "          (kv): Linear(in_features=160, out_features=320, bias=True)\n",
            "          (attn_drop): Dropout(p=0.0, inplace=False)\n",
            "          (proj): Linear(in_features=160, out_features=160, bias=True)\n",
            "          (proj_drop): Dropout(p=0.0, inplace=False)\n",
            "          (sr): Conv2d(160, 160, kernel_size=(2, 2), stride=(2, 2))\n",
            "          (norm): LayerNorm((160,), eps=1e-05, elementwise_affine=True)\n",
            "        )\n",
            "        (drop_path): DropPath(drop_prob=0.071)\n",
            "        (norm2): LayerNorm((160,), eps=1e-06, elementwise_affine=True)\n",
            "        (mlp): Mlp(\n",
            "          (fc1): Linear(in_features=160, out_features=640, bias=True)\n",
            "          (dwconv): DWConv(\n",
            "            (dwconv): Conv2d(640, 640, kernel_size=(3, 3), stride=(1, 1), padding=(1, 1), groups=640)\n",
            "          )\n",
            "          (act): GELU(approximate='none')\n",
            "          (fc2): Linear(in_features=640, out_features=160, bias=True)\n",
            "          (drop): Dropout(p=0.0, inplace=False)\n",
            "        )\n",
            "      )\n",
            "    )\n",
            "    (norm3): LayerNorm((160,), eps=1e-06, elementwise_affine=True)\n",
            "    (block4): ModuleList(\n",
            "      (0): Block(\n",
            "        (norm1): LayerNorm((256,), eps=1e-06, elementwise_affine=True)\n",
            "        (attn): Attention(\n",
            "          (q): Linear(in_features=256, out_features=256, bias=True)\n",
            "          (kv): Linear(in_features=256, out_features=512, bias=True)\n",
            "          (attn_drop): Dropout(p=0.0, inplace=False)\n",
            "          (proj): Linear(in_features=256, out_features=256, bias=True)\n",
            "          (proj_drop): Dropout(p=0.0, inplace=False)\n",
            "        )\n",
            "        (drop_path): DropPath(drop_prob=0.086)\n",
            "        (norm2): LayerNorm((256,), eps=1e-06, elementwise_affine=True)\n",
            "        (mlp): Mlp(\n",
            "          (fc1): Linear(in_features=256, out_features=1024, bias=True)\n",
            "          (dwconv): DWConv(\n",
            "            (dwconv): Conv2d(1024, 1024, kernel_size=(3, 3), stride=(1, 1), padding=(1, 1), groups=1024)\n",
            "          )\n",
            "          (act): GELU(approximate='none')\n",
            "          (fc2): Linear(in_features=1024, out_features=256, bias=True)\n",
            "          (drop): Dropout(p=0.0, inplace=False)\n",
            "        )\n",
            "      )\n",
            "      (1): Block(\n",
            "        (norm1): LayerNorm((256,), eps=1e-06, elementwise_affine=True)\n",
            "        (attn): Attention(\n",
            "          (q): Linear(in_features=256, out_features=256, bias=True)\n",
            "          (kv): Linear(in_features=256, out_features=512, bias=True)\n",
            "          (attn_drop): Dropout(p=0.0, inplace=False)\n",
            "          (proj): Linear(in_features=256, out_features=256, bias=True)\n",
            "          (proj_drop): Dropout(p=0.0, inplace=False)\n",
            "        )\n",
            "        (drop_path): DropPath(drop_prob=0.100)\n",
            "        (norm2): LayerNorm((256,), eps=1e-06, elementwise_affine=True)\n",
            "        (mlp): Mlp(\n",
            "          (fc1): Linear(in_features=256, out_features=1024, bias=True)\n",
            "          (dwconv): DWConv(\n",
            "            (dwconv): Conv2d(1024, 1024, kernel_size=(3, 3), stride=(1, 1), padding=(1, 1), groups=1024)\n",
            "          )\n",
            "          (act): GELU(approximate='none')\n",
            "          (fc2): Linear(in_features=1024, out_features=256, bias=True)\n",
            "          (drop): Dropout(p=0.0, inplace=False)\n",
            "        )\n",
            "      )\n",
            "    )\n",
            "    (norm4): LayerNorm((256,), eps=1e-06, elementwise_affine=True)\n",
            "  )\n",
            "  (decoder): UnetDecoder(\n",
            "    (center): Identity()\n",
            "    (blocks): ModuleList(\n",
            "      (0): DecoderBlock(\n",
            "        (conv1): Conv2dReLU(\n",
            "          (0): Conv2d(416, 256, kernel_size=(3, 3), stride=(1, 1), padding=(1, 1), bias=False)\n",
            "          (1): BatchNorm2d(256, eps=1e-05, momentum=0.1, affine=True, track_running_stats=True)\n",
            "          (2): ReLU(inplace=True)\n",
            "        )\n",
            "        (attention1): Attention(\n",
            "          (attention): Identity()\n",
            "        )\n",
            "        (conv2): Conv2dReLU(\n",
            "          (0): Conv2d(256, 256, kernel_size=(3, 3), stride=(1, 1), padding=(1, 1), bias=False)\n",
            "          (1): BatchNorm2d(256, eps=1e-05, momentum=0.1, affine=True, track_running_stats=True)\n",
            "          (2): ReLU(inplace=True)\n",
            "        )\n",
            "        (attention2): Attention(\n",
            "          (attention): Identity()\n",
            "        )\n",
            "      )\n",
            "      (1): DecoderBlock(\n",
            "        (conv1): Conv2dReLU(\n",
            "          (0): Conv2d(320, 128, kernel_size=(3, 3), stride=(1, 1), padding=(1, 1), bias=False)\n",
            "          (1): BatchNorm2d(128, eps=1e-05, momentum=0.1, affine=True, track_running_stats=True)\n",
            "          (2): ReLU(inplace=True)\n",
            "        )\n",
            "        (attention1): Attention(\n",
            "          (attention): Identity()\n",
            "        )\n",
            "        (conv2): Conv2dReLU(\n",
            "          (0): Conv2d(128, 128, kernel_size=(3, 3), stride=(1, 1), padding=(1, 1), bias=False)\n",
            "          (1): BatchNorm2d(128, eps=1e-05, momentum=0.1, affine=True, track_running_stats=True)\n",
            "          (2): ReLU(inplace=True)\n",
            "        )\n",
            "        (attention2): Attention(\n",
            "          (attention): Identity()\n",
            "        )\n",
            "      )\n",
            "      (2): DecoderBlock(\n",
            "        (conv1): Conv2dReLU(\n",
            "          (0): Conv2d(160, 64, kernel_size=(3, 3), stride=(1, 1), padding=(1, 1), bias=False)\n",
            "          (1): BatchNorm2d(64, eps=1e-05, momentum=0.1, affine=True, track_running_stats=True)\n",
            "          (2): ReLU(inplace=True)\n",
            "        )\n",
            "        (attention1): Attention(\n",
            "          (attention): Identity()\n",
            "        )\n",
            "        (conv2): Conv2dReLU(\n",
            "          (0): Conv2d(64, 64, kernel_size=(3, 3), stride=(1, 1), padding=(1, 1), bias=False)\n",
            "          (1): BatchNorm2d(64, eps=1e-05, momentum=0.1, affine=True, track_running_stats=True)\n",
            "          (2): ReLU(inplace=True)\n",
            "        )\n",
            "        (attention2): Attention(\n",
            "          (attention): Identity()\n",
            "        )\n",
            "      )\n",
            "      (3): DecoderBlock(\n",
            "        (conv1): Conv2dReLU(\n",
            "          (0): Conv2d(64, 32, kernel_size=(3, 3), stride=(1, 1), padding=(1, 1), bias=False)\n",
            "          (1): BatchNorm2d(32, eps=1e-05, momentum=0.1, affine=True, track_running_stats=True)\n",
            "          (2): ReLU(inplace=True)\n",
            "        )\n",
            "        (attention1): Attention(\n",
            "          (attention): Identity()\n",
            "        )\n",
            "        (conv2): Conv2dReLU(\n",
            "          (0): Conv2d(32, 32, kernel_size=(3, 3), stride=(1, 1), padding=(1, 1), bias=False)\n",
            "          (1): BatchNorm2d(32, eps=1e-05, momentum=0.1, affine=True, track_running_stats=True)\n",
            "          (2): ReLU(inplace=True)\n",
            "        )\n",
            "        (attention2): Attention(\n",
            "          (attention): Identity()\n",
            "        )\n",
            "      )\n",
            "      (4): DecoderBlock(\n",
            "        (conv1): Conv2dReLU(\n",
            "          (0): Conv2d(32, 16, kernel_size=(3, 3), stride=(1, 1), padding=(1, 1), bias=False)\n",
            "          (1): BatchNorm2d(16, eps=1e-05, momentum=0.1, affine=True, track_running_stats=True)\n",
            "          (2): ReLU(inplace=True)\n",
            "        )\n",
            "        (attention1): Attention(\n",
            "          (attention): Identity()\n",
            "        )\n",
            "        (conv2): Conv2dReLU(\n",
            "          (0): Conv2d(16, 16, kernel_size=(3, 3), stride=(1, 1), padding=(1, 1), bias=False)\n",
            "          (1): BatchNorm2d(16, eps=1e-05, momentum=0.1, affine=True, track_running_stats=True)\n",
            "          (2): ReLU(inplace=True)\n",
            "        )\n",
            "        (attention2): Attention(\n",
            "          (attention): Identity()\n",
            "        )\n",
            "      )\n",
            "    )\n",
            "  )\n",
            "  (segmentation_head): SegmentationHead(\n",
            "    (0): Conv2d(16, 3, kernel_size=(3, 3), stride=(1, 1), padding=(1, 1))\n",
            "    (1): Identity()\n",
            "    (2): Activation(\n",
            "      (activation): Softmax(dim=1)\n",
            "    )\n",
            "  )\n",
            "  (classification_head): None\n",
            ")\n"
          ]
        }
      ]
    },
    {
      "cell_type": "code",
      "source": [
        "model = model.to(DEVICE)"
      ],
      "metadata": {
        "id": "Hcuqj4dRT8PE"
      },
      "execution_count": null,
      "outputs": []
    },
    {
      "cell_type": "code",
      "source": [
        "# calculate total parameters of the model\n",
        "def count_parameters(model):\n",
        "  return sum(p.numel() for p in model.parameters() if p.requires_grad)"
      ],
      "metadata": {
        "id": "3N1RkW47vEjJ"
      },
      "execution_count": null,
      "outputs": []
    },
    {
      "cell_type": "code",
      "source": [
        "print (f\"{sum(p.numel() for p in model.parameters()):,}\")"
      ],
      "metadata": {
        "colab": {
          "base_uri": "https://localhost:8080/"
        },
        "id": "WYW1k6WgvGss",
        "outputId": "8f36eba8-6bb9-4255-9cab-9d717b7c73e2"
      },
      "execution_count": null,
      "outputs": [
        {
          "output_type": "stream",
          "name": "stdout",
          "text": [
            "5,549,779\n"
          ]
        }
      ]
    },
    {
      "cell_type": "code",
      "source": [
        "para_count = count_parameters(model)\n",
        "print (f\"{para_count:,}\")"
      ],
      "metadata": {
        "colab": {
          "base_uri": "https://localhost:8080/"
        },
        "id": "u_VqlAFgvM5t",
        "outputId": "6031c4db-193b-4486-f034-e3827fb23535"
      },
      "execution_count": null,
      "outputs": [
        {
          "output_type": "stream",
          "name": "stdout",
          "text": [
            "5,549,779\n"
          ]
        }
      ]
    },
    {
      "cell_type": "code",
      "source": [
        "from torchsummary import summary\n",
        "\n",
        "print(summary(model, (1, IMAGE_HEIGHT, IMAGE_WIDTH)))"
      ],
      "metadata": {
        "id": "MaWTX7-4TtIV"
      },
      "execution_count": null,
      "outputs": []
    },
    {
      "cell_type": "code",
      "source": [
        "def get_dice(tp, fp, fn, tn):\n",
        "\n",
        "  tp = torch.sum(tp)\n",
        "  fp = torch.sum(fp)\n",
        "  fn = torch.sum(fn)\n",
        "  tn = torch.sum(tn)\n",
        "\n",
        "  dice_value = 2*tp / (2*tp + fp + fn)\n",
        "  dice_loss = 1 - dice_value\n",
        "\n",
        "  return dice_value"
      ],
      "metadata": {
        "id": "PVCXMuunM4V6"
      },
      "execution_count": null,
      "outputs": []
    },
    {
      "cell_type": "code",
      "source": [
        "train_loader, val_loader = get_loaders(\n",
        "    TRAIN_IMG_DIR,\n",
        "    TRAIN_MASK_DIR,\n",
        "    VAL_IMG_DIR,\n",
        "    VAL_MASK_DIR,\n",
        "    BATCH_SIZE,\n",
        "    train_transform,\n",
        "    val_transforms,\n",
        "    NUM_WORKERS,\n",
        "    PIN_MEMORY,\n",
        "    is_split=False,\n",
        "    )"
      ],
      "metadata": {
        "id": "PudKP3h2KZ6_"
      },
      "execution_count": null,
      "outputs": []
    },
    {
      "cell_type": "code",
      "source": [
        "print(len(train_loader))\n",
        "print(len(val_loader))"
      ],
      "metadata": {
        "colab": {
          "base_uri": "https://localhost:8080/"
        },
        "id": "wnOTI_07HP6o",
        "outputId": "036f664a-5261-4c64-cf33-155604c4f4d5"
      },
      "execution_count": null,
      "outputs": [
        {
          "output_type": "stream",
          "name": "stdout",
          "text": [
            "400\n",
            "3\n"
          ]
        }
      ]
    },
    {
      "cell_type": "code",
      "source": [
        "model = model.to(DEVICE)\n",
        "#loss_fn = smp.utils.losses.DiceLoss()\n",
        "#loss_fn = smp.utils.losses.JaccardLoss()\n",
        "#loss_fn = nn.CrossEntropyLoss()\n",
        "#loss_fn = nn.BCEWithLogitsLoss()\n",
        "loss_jaccard = JaccardLoss(mode='multilabel', from_logits=False)\n",
        "loss_bce = SoftBCEWithLogitsLoss()\n",
        "\n",
        "optimizer = optim.Adam(model.parameters(), lr=LEARNING_RATE)\n",
        "scaler = torch.cuda.amp.GradScaler()"
      ],
      "metadata": {
        "id": "FxKJ5EQaOipS"
      },
      "execution_count": null,
      "outputs": []
    },
    {
      "cell_type": "code",
      "source": [
        "def check_accuracy(loader, model, pix_acc, num_classes, device=\"cuda\", is_train=True):\n",
        "  accuracy_list = []\n",
        "  iou_list = []\n",
        "  dice_scores = []\n",
        "  model.eval()\n",
        "\n",
        "  with torch.no_grad():\n",
        "    for x, y in loader:\n",
        "      x = x.to(device)\n",
        "      y = y.to(device)\n",
        "      preds = model(x)\n",
        "      preds = (preds > 0.5).int()\n",
        "      tp, fp, fn, tn = smp.metrics.get_stats(preds, y,\n",
        "                                             threshold=0.5,\n",
        "                                             mode='multilabel')\n",
        "\n",
        "      accuracy = smp.metrics.accuracy(tp, fp, fn, tn, reduction=\"micro\")\n",
        "      iou_score = smp.metrics.iou_score(tp, fp, fn, tn, reduction=\"micro\")\n",
        "      dice_score = get_dice(tp, fp, fn, tn)\n",
        "\n",
        "      accuracy_list.append(accuracy)\n",
        "      iou_list.append(iou_score)\n",
        "      dice_scores.append(dice_score)\n",
        "\n",
        "  #p_acc = mean(accuracy_list)\n",
        "  p_acc = torch.mean(torch.stack(accuracy_list)).item()\n",
        "  print(f\"Got pixel accuracy: {p_acc:.6f}\")\n",
        "  pix_acc.append(p_acc)\n",
        "\n",
        "  #mean_iou = mean(iou_list)\n",
        "  mean_iou = torch.mean(torch.stack(iou_list)).item()\n",
        "  print(f\"mean IoU score: {mean_iou:.7f}\")\n",
        "\n",
        "  #mean_dice = mean(dice_scores)\n",
        "  mean_dice = torch.mean(torch.stack(dice_scores)).item()\n",
        "  print(f\"mean Dice score: {mean_dice:.7f}\")\n",
        "\n",
        "  #metrics_out.append(pix_acc, mean_iou, mean_dice)\n",
        "\n",
        "  if is_train:\n",
        "    model.train()\n",
        "\n",
        "  return [pix_acc, mean_iou, mean_dice] #metrics_out"
      ],
      "metadata": {
        "id": "4gXI0Z0Y4H4Z"
      },
      "execution_count": null,
      "outputs": []
    },
    {
      "cell_type": "code",
      "source": [
        "def train_fn(loader, model, optimizer, loss_fn_1, loss_fn_2, num_classes, scaler):\n",
        "  loop = tqdm(loader)\n",
        "\n",
        "  for batch_idx, (data, targets) in enumerate(loop):\n",
        "    data = data.to(device=DEVICE)\n",
        "    #targets = targets.float().unsqueeze(1).to(device=DEVICE)\n",
        "    targets = targets.to(device=DEVICE)\n",
        "    model.train()\n",
        "\n",
        "    # forward\n",
        "    with torch.cuda.amp.autocast():\n",
        "      predictions = model(data)\n",
        "      #predictions = (predictions > 0.5).int()\n",
        "      #loss = loss_fn.forward(predictions[0], targets)\n",
        "\n",
        "      #loss = loss_fn(predictions, targets.float())\n",
        "\n",
        "      loss = loss_fn_1.forward(predictions, targets) + loss_fn_2.forward(predictions, targets.float())\n",
        "\n",
        "      #preds = (predictions > 0.5).int()\n",
        "      #tp, fp, fn, tn = smp.metrics.get_stats(preds, targets, threshold=0.5, mode='multilabel')\n",
        "\n",
        "    # backward\n",
        "    optimizer.zero_grad()\n",
        "    scaler.scale(loss).backward()\n",
        "    scaler.step(optimizer)\n",
        "    scaler.update()\n",
        "\n",
        "    # update tqdm loop\n",
        "    loop.set_postfix(loss=loss.item())\n",
        "\n",
        "  return loss.item()"
      ],
      "metadata": {
        "id": "luQSwXCo9HiQ"
      },
      "execution_count": null,
      "outputs": []
    },
    {
      "cell_type": "code",
      "source": [
        "import multiprocessing as mp"
      ],
      "metadata": {
        "id": "A_EFkF6h1g8w"
      },
      "execution_count": null,
      "outputs": []
    },
    {
      "cell_type": "code",
      "source": [
        "num_class = len(CLASSES)\n",
        "\n",
        "best_loss = 1.0\n",
        "\n",
        "pix_acc = []\n",
        "\n",
        "for epoch in range(NUM_EPOCHS):\n",
        "  #\n",
        "  #train_loader\n",
        "  #loss_jaccard = JaccardLoss(mode='multilabel', from_logits=False)\n",
        "  #loss_bce = SoftBCEWithLogitsLoss()\n",
        "  #\n",
        "  current_loss = train_fn(train_loader, model, optimizer, loss_jaccard, loss_bce, num_class, scaler)\n",
        "\n",
        "  # check accuracy\n",
        "  #val_loader\n",
        "  metric_results = check_accuracy(val_loader, model, pix_acc, num_class, device=DEVICE)\n",
        "\n",
        "  # print some examples to a folder\n",
        "  #save_predictions_as_imgs(val_loader, model, folder=\"saved_images/\", device=DEVICE)"
      ],
      "metadata": {
        "id": "C8pErDK6rmS9",
        "colab": {
          "base_uri": "https://localhost:8080/"
        },
        "outputId": "579d73c9-0601-4e34-c051-5005881af606"
      },
      "execution_count": null,
      "outputs": [
        {
          "output_type": "stream",
          "name": "stderr",
          "text": [
            "100%|██████████| 400/400 [11:11<00:00,  1.68s/it, loss=0.87]\n"
          ]
        },
        {
          "output_type": "stream",
          "name": "stdout",
          "text": [
            "Got pixel accuracy: 0.985016\n",
            "mean IoU score: 0.9560572\n",
            "mean Dice score: 0.9775178\n"
          ]
        },
        {
          "output_type": "stream",
          "name": "stderr",
          "text": [
            "100%|██████████| 400/400 [02:39<00:00,  2.51it/s, loss=0.698]\n"
          ]
        },
        {
          "output_type": "stream",
          "name": "stdout",
          "text": [
            "Got pixel accuracy: 0.988797\n",
            "mean IoU score: 0.9669966\n",
            "mean Dice score: 0.9831951\n"
          ]
        },
        {
          "output_type": "stream",
          "name": "stderr",
          "text": [
            "100%|██████████| 400/400 [02:12<00:00,  3.02it/s, loss=0.68]\n"
          ]
        },
        {
          "output_type": "stream",
          "name": "stdout",
          "text": [
            "Got pixel accuracy: 0.987871\n",
            "mean IoU score: 0.9643041\n",
            "mean Dice score: 0.9818058\n"
          ]
        },
        {
          "output_type": "stream",
          "name": "stderr",
          "text": [
            "100%|██████████| 400/400 [02:11<00:00,  3.03it/s, loss=0.649]\n"
          ]
        },
        {
          "output_type": "stream",
          "name": "stdout",
          "text": [
            "Got pixel accuracy: 0.990435\n",
            "mean IoU score: 0.9717392\n",
            "mean Dice score: 0.9856519\n"
          ]
        },
        {
          "output_type": "stream",
          "name": "stderr",
          "text": [
            "100%|██████████| 400/400 [02:13<00:00,  2.99it/s, loss=0.679]\n"
          ]
        },
        {
          "output_type": "stream",
          "name": "stdout",
          "text": [
            "Got pixel accuracy: 0.990842\n",
            "mean IoU score: 0.9729117\n",
            "mean Dice score: 0.9862630\n"
          ]
        },
        {
          "output_type": "stream",
          "name": "stderr",
          "text": [
            "100%|██████████| 400/400 [02:12<00:00,  3.01it/s, loss=0.646]\n"
          ]
        },
        {
          "output_type": "stream",
          "name": "stdout",
          "text": [
            "Got pixel accuracy: 0.991402\n",
            "mean IoU score: 0.9745573\n",
            "mean Dice score: 0.9871035\n"
          ]
        },
        {
          "output_type": "stream",
          "name": "stderr",
          "text": [
            "100%|██████████| 400/400 [02:13<00:00,  3.00it/s, loss=0.644]\n"
          ]
        },
        {
          "output_type": "stream",
          "name": "stdout",
          "text": [
            "Got pixel accuracy: 0.991367\n",
            "mean IoU score: 0.9744428\n",
            "mean Dice score: 0.9870502\n"
          ]
        },
        {
          "output_type": "stream",
          "name": "stderr",
          "text": [
            "100%|██████████| 400/400 [02:14<00:00,  2.98it/s, loss=0.66]\n"
          ]
        },
        {
          "output_type": "stream",
          "name": "stdout",
          "text": [
            "Got pixel accuracy: 0.992397\n",
            "mean IoU score: 0.9774599\n",
            "mean Dice score: 0.9885956\n"
          ]
        },
        {
          "output_type": "stream",
          "name": "stderr",
          "text": [
            "100%|██████████| 400/400 [02:11<00:00,  3.03it/s, loss=0.653]\n"
          ]
        },
        {
          "output_type": "stream",
          "name": "stdout",
          "text": [
            "Got pixel accuracy: 0.992221\n",
            "mean IoU score: 0.9769559\n",
            "mean Dice score: 0.9883322\n"
          ]
        },
        {
          "output_type": "stream",
          "name": "stderr",
          "text": [
            "100%|██████████| 400/400 [02:12<00:00,  3.03it/s, loss=0.636]\n"
          ]
        },
        {
          "output_type": "stream",
          "name": "stdout",
          "text": [
            "Got pixel accuracy: 0.992344\n",
            "mean IoU score: 0.9772973\n",
            "mean Dice score: 0.9885155\n"
          ]
        },
        {
          "output_type": "stream",
          "name": "stderr",
          "text": [
            "100%|██████████| 400/400 [02:13<00:00,  2.99it/s, loss=0.66]\n"
          ]
        },
        {
          "output_type": "stream",
          "name": "stdout",
          "text": [
            "Got pixel accuracy: 0.992981\n",
            "mean IoU score: 0.9791718\n",
            "mean Dice score: 0.9894719\n"
          ]
        },
        {
          "output_type": "stream",
          "name": "stderr",
          "text": [
            "100%|██████████| 400/400 [02:10<00:00,  3.05it/s, loss=0.663]\n"
          ]
        },
        {
          "output_type": "stream",
          "name": "stdout",
          "text": [
            "Got pixel accuracy: 0.993497\n",
            "mean IoU score: 0.9806912\n",
            "mean Dice score: 0.9902456\n"
          ]
        },
        {
          "output_type": "stream",
          "name": "stderr",
          "text": [
            "100%|██████████| 400/400 [02:13<00:00,  3.00it/s, loss=0.633]\n"
          ]
        },
        {
          "output_type": "stream",
          "name": "stdout",
          "text": [
            "Got pixel accuracy: 0.992767\n",
            "mean IoU score: 0.9785517\n",
            "mean Dice score: 0.9891510\n"
          ]
        },
        {
          "output_type": "stream",
          "name": "stderr",
          "text": [
            "100%|██████████| 400/400 [02:10<00:00,  3.06it/s, loss=0.659]\n"
          ]
        },
        {
          "output_type": "stream",
          "name": "stdout",
          "text": [
            "Got pixel accuracy: 0.993111\n",
            "mean IoU score: 0.9795551\n",
            "mean Dice score: 0.9896662\n"
          ]
        },
        {
          "output_type": "stream",
          "name": "stderr",
          "text": [
            "100%|██████████| 400/400 [02:09<00:00,  3.08it/s, loss=0.638]\n"
          ]
        },
        {
          "output_type": "stream",
          "name": "stdout",
          "text": [
            "Got pixel accuracy: 0.992546\n",
            "mean IoU score: 0.9778990\n",
            "mean Dice score: 0.9888183\n"
          ]
        },
        {
          "output_type": "stream",
          "name": "stderr",
          "text": [
            "100%|██████████| 400/400 [02:12<00:00,  3.03it/s, loss=0.656]\n"
          ]
        },
        {
          "output_type": "stream",
          "name": "stdout",
          "text": [
            "Got pixel accuracy: 0.992908\n",
            "mean IoU score: 0.9789551\n",
            "mean Dice score: 0.9893624\n"
          ]
        },
        {
          "output_type": "stream",
          "name": "stderr",
          "text": [
            "100%|██████████| 400/400 [02:09<00:00,  3.08it/s, loss=0.64]\n"
          ]
        },
        {
          "output_type": "stream",
          "name": "stdout",
          "text": [
            "Got pixel accuracy: 0.994002\n",
            "mean IoU score: 0.9821793\n",
            "mean Dice score: 0.9910024\n"
          ]
        },
        {
          "output_type": "stream",
          "name": "stderr",
          "text": [
            "100%|██████████| 400/400 [02:35<00:00,  2.57it/s, loss=0.637]\n"
          ]
        },
        {
          "output_type": "stream",
          "name": "stdout",
          "text": [
            "Got pixel accuracy: 0.993619\n",
            "mean IoU score: 0.9810552\n",
            "mean Dice score: 0.9904281\n"
          ]
        },
        {
          "output_type": "stream",
          "name": "stderr",
          "text": [
            "100%|██████████| 400/400 [02:11<00:00,  3.05it/s, loss=0.637]\n"
          ]
        },
        {
          "output_type": "stream",
          "name": "stdout",
          "text": [
            "Got pixel accuracy: 0.993315\n",
            "mean IoU score: 0.9801590\n",
            "mean Dice score: 0.9899732\n"
          ]
        },
        {
          "output_type": "stream",
          "name": "stderr",
          "text": [
            "100%|██████████| 400/400 [02:15<00:00,  2.96it/s, loss=0.637]\n"
          ]
        },
        {
          "output_type": "stream",
          "name": "stdout",
          "text": [
            "Got pixel accuracy: 0.993446\n",
            "mean IoU score: 0.9805412\n",
            "mean Dice score: 0.9901692\n"
          ]
        }
      ]
    },
    {
      "cell_type": "code",
      "source": [
        "# set path to save\n",
        "save_flag = True\n",
        "save_path = root_path + f'/Saved_models/'\n",
        "checkpoint_name = save_path + f\"{model_name}_model_2808.pt\"\n",
        "checkpoint_name"
      ],
      "metadata": {
        "id": "ohTOs4vysE4B",
        "colab": {
          "base_uri": "https://localhost:8080/",
          "height": 35
        },
        "outputId": "032f0ede-b8ec-4ff1-e9ac-52a4de7837e5"
      },
      "execution_count": null,
      "outputs": [
        {
          "output_type": "execute_result",
          "data": {
            "text/plain": [
              "'/content/drive/MyDrive/MICCAI 2023/Saved_models/unet_mit_b0_model_2808.pt'"
            ],
            "application/vnd.google.colaboratory.intrinsic+json": {
              "type": "string"
            }
          },
          "metadata": {},
          "execution_count": 41
        }
      ]
    },
    {
      "cell_type": "code",
      "source": [
        "def save_checkpoint(state, trg_path):\n",
        "  print(\"=> Saving checkpoint\")\n",
        "  torch.save(state, trg_path)"
      ],
      "metadata": {
        "id": "9w9kQsysrmXW"
      },
      "execution_count": null,
      "outputs": []
    },
    {
      "cell_type": "code",
      "source": [
        "save_flag = True"
      ],
      "metadata": {
        "id": "5G7zTInhJ_3C"
      },
      "execution_count": null,
      "outputs": []
    },
    {
      "cell_type": "code",
      "source": [
        "if save_flag:\n",
        "  '''\n",
        "  checkpoint = {\n",
        "      \"state_dict\": model.state_dict(),\n",
        "      \"optimizer\":optimizer.state_dict(),\n",
        "      }\n",
        "  '''\n",
        "  save_checkpoint(model, checkpoint_name)\n",
        "  print(f\"{checkpoint_name}\")"
      ],
      "metadata": {
        "colab": {
          "base_uri": "https://localhost:8080/"
        },
        "id": "02NrylNBtnnj",
        "outputId": "8fb0df53-32d3-48a0-c60f-723b2eb71d1c"
      },
      "execution_count": null,
      "outputs": [
        {
          "output_type": "stream",
          "name": "stdout",
          "text": [
            "=> Saving checkpoint\n",
            "/content/drive/MyDrive/MICCAI 2023/Saved_models/unet_mit_b0_model_2808.pt\n"
          ]
        }
      ]
    },
    {
      "cell_type": "markdown",
      "source": [
        "## Evaluation Model"
      ],
      "metadata": {
        "id": "HqDScunPWclE"
      }
    },
    {
      "cell_type": "code",
      "source": [
        "model_name = 'unet_frozen_timm-resnest14d'\n",
        "model = None"
      ],
      "metadata": {
        "id": "5m8Dgx2yC0qW"
      },
      "execution_count": null,
      "outputs": []
    },
    {
      "cell_type": "code",
      "source": [
        "LOAD_MODEL = True"
      ],
      "metadata": {
        "id": "RZ_WyT_LKIOL"
      },
      "execution_count": null,
      "outputs": []
    },
    {
      "cell_type": "code",
      "source": [
        "# load saved models\n",
        "def load_checkpoint(checkpoint):\n",
        "  print(\"=> Loading checkpoint\")\n",
        "  model = torch.load(checkpoint)\n",
        "  return model"
      ],
      "metadata": {
        "id": "thAleGuguXeo"
      },
      "execution_count": null,
      "outputs": []
    },
    {
      "cell_type": "code",
      "source": [
        "save_path = root_path + f'/Saved_models/'"
      ],
      "metadata": {
        "id": "yGDbPJFJZ-CF"
      },
      "execution_count": null,
      "outputs": []
    },
    {
      "cell_type": "code",
      "source": [
        "checkpoint_name = save_path + f\"{model_name}_model.pt\"\n",
        "checkpoint_name"
      ],
      "metadata": {
        "colab": {
          "base_uri": "https://localhost:8080/",
          "height": 35
        },
        "id": "UCgnbZcDuXj9",
        "outputId": "a49f4237-418c-4719-d485-6f2db027ed69"
      },
      "execution_count": null,
      "outputs": [
        {
          "output_type": "execute_result",
          "data": {
            "text/plain": [
              "'/content/drive/MyDrive/MICCAI 2023/Saved_models/unet_frozen_timm-resnest14d_model.pt'"
            ],
            "application/vnd.google.colaboratory.intrinsic+json": {
              "type": "string"
            }
          },
          "metadata": {},
          "execution_count": 38
        }
      ]
    },
    {
      "cell_type": "code",
      "source": [
        "if LOAD_MODEL:\n",
        "  model = load_checkpoint(checkpoint_name)"
      ],
      "metadata": {
        "id": "QNaytBghua-4",
        "colab": {
          "base_uri": "https://localhost:8080/"
        },
        "outputId": "d5bd237b-f348-4ee8-d590-9f96f3d9726b"
      },
      "execution_count": null,
      "outputs": [
        {
          "output_type": "stream",
          "name": "stdout",
          "text": [
            "=> Loading checkpoint\n"
          ]
        }
      ]
    },
    {
      "cell_type": "code",
      "source": [
        "test_dataloader = val_loader"
      ],
      "metadata": {
        "id": "8TV49R-m0Rj1"
      },
      "execution_count": null,
      "outputs": []
    },
    {
      "cell_type": "code",
      "source": [
        "test_pix_acc = []\n",
        "test_dice_scores = []\n",
        "\n",
        "# check accuracy\n",
        "check_accuracy(test_dataloader,\n",
        "               model,\n",
        "               test_pix_acc, test_dice_scores,\n",
        "               device=DEVICE,\n",
        "               is_train=False)"
      ],
      "metadata": {
        "id": "FBFy3GoNiDtc",
        "colab": {
          "base_uri": "https://localhost:8080/"
        },
        "outputId": "031bbf8b-591c-438b-eb16-4389714ff83c"
      },
      "execution_count": null,
      "outputs": [
        {
          "output_type": "stream",
          "name": "stdout",
          "text": [
            "Got pixel accuracy: 0.993446\n",
            "mean IoU score: 0.9805412\n",
            "mean Dice score: 0.9901692\n"
          ]
        },
        {
          "output_type": "execute_result",
          "data": {
            "text/plain": [
              "[[0.9934462308883667], 0.9805412292480469, 0.9901692271232605]"
            ]
          },
          "metadata": {},
          "execution_count": 48
        }
      ]
    },
    {
      "cell_type": "code",
      "source": [
        "len(test_dataloader)"
      ],
      "metadata": {
        "colab": {
          "base_uri": "https://localhost:8080/"
        },
        "id": "UV5g63k50xBb",
        "outputId": "926daf58-9621-41f7-b63f-b58a30afdab1"
      },
      "execution_count": null,
      "outputs": [
        {
          "output_type": "execute_result",
          "data": {
            "text/plain": [
              "3"
            ]
          },
          "metadata": {},
          "execution_count": 49
        }
      ]
    },
    {
      "cell_type": "code",
      "source": [
        "import random\n",
        "rand_idx = random.sample(range(0, 9), 1)[0]\n",
        "print(rand_idx)"
      ],
      "metadata": {
        "colab": {
          "base_uri": "https://localhost:8080/"
        },
        "id": "mIYm22Bn0XwK",
        "outputId": "fe3b2812-8534-4254-c9f2-db4384469ba3"
      },
      "execution_count": null,
      "outputs": [
        {
          "output_type": "stream",
          "name": "stdout",
          "text": [
            "6\n"
          ]
        }
      ]
    },
    {
      "cell_type": "code",
      "source": [
        "with torch.no_grad():\n",
        "  for x, y in test_dataloader:\n",
        "    image = x.to(DEVICE)\n",
        "    gt_mask = y.to(DEVICE).unsqueeze(1)\n",
        "    preds = model(image)\n",
        "    preds = preds[rand_idx]\n",
        "    preds = (preds > 0.5).float()\n",
        "\n",
        "    plt.figure(figsize=(10, 10), layout='constrained')\n",
        "\n",
        "    plt.subplot(2, 4, 1)\n",
        "    x = x[rand_idx,:,:,:]\n",
        "    print(x.shape)\n",
        "    plt.imshow(x.permute(1, 2, 0))\n",
        "    plt.title(\"Image\")\n",
        "    plt.axis(\"off\")\n",
        "\n",
        "    plt.subplot(2, 4, 2)\n",
        "    y1 = y[rand_idx,:,:,:][0,:,:]\n",
        "    plt.imshow(y1[:,:,None])\n",
        "    plt.title(\"Ground truth\")\n",
        "    plt.axis(\"off\")\n",
        "\n",
        "    plt.subplot(2, 4, 3)\n",
        "    y2 = y[rand_idx,:,:,:][1,:,:]\n",
        "    plt.imshow(y2[:,:,None])\n",
        "    plt.title(\"Ground truth\")\n",
        "    plt.axis(\"off\")\n",
        "\n",
        "    plt.subplot(2, 4, 4)\n",
        "    y3 = y[rand_idx,:,:,:][2,:,:]\n",
        "    plt.imshow(y3[:,:,None])\n",
        "    plt.title(\"Ground truth\")\n",
        "    plt.axis(\"off\")\n",
        "\n",
        "    plt.subplot(2, 4, 5)\n",
        "    #x = x[rand_idx,:,:,:]\n",
        "    plt.imshow(x.permute(1, 2, 0))\n",
        "    plt.title(\"Image\")\n",
        "    plt.axis(\"off\")\n",
        "\n",
        "    plt.subplot(2, 4, 6)\n",
        "    preds1 = preds[0,:,:]\n",
        "    plt.imshow(preds1[:,:,None].cpu().data)\n",
        "    plt.title(\"Prediction Background\")\n",
        "    plt.axis(\"off\")\n",
        "\n",
        "    plt.subplot(2, 4, 7)\n",
        "    preds2 = preds[1,:,:]\n",
        "    plt.imshow(preds2[:,:,None].cpu().data)\n",
        "    plt.title(\"Prediction Pubic\")\n",
        "    plt.axis(\"off\")\n",
        "\n",
        "    plt.subplot(2, 4, 8)\n",
        "    preds3 = preds[2,:,:]\n",
        "    plt.imshow(preds3[:,:,None].cpu().data)\n",
        "    plt.title(\"Prediction Head\")\n",
        "    plt.axis(\"off\")\n",
        "\n",
        "    plt.show()\n",
        "\n",
        "    break"
      ],
      "metadata": {
        "colab": {
          "base_uri": "https://localhost:8080/",
          "height": 818
        },
        "id": "UhWflv1LYSGb",
        "outputId": "82a0c90f-39f0-4fc7-875c-5c2a700055f0"
      },
      "execution_count": null,
      "outputs": [
        {
          "output_type": "stream",
          "name": "stdout",
          "text": [
            "torch.Size([3, 256, 256])\n"
          ]
        },
        {
          "output_type": "display_data",
          "data": {
            "text/plain": [
              "<Figure size 1000x1000 with 8 Axes>"
            ],
            "image/png": "[encoded data removed]"
          },
          "metadata": {}
        }
      ]
    }
  ]
}